{
 "cells": [
  {
   "cell_type": "code",
   "execution_count": 41,
   "id": "a7cd90ce",
   "metadata": {},
   "outputs": [],
   "source": [
    "import pandas as pd\n",
    "import numpy as np\n",
    "import yaml"
   ]
  },
  {
   "cell_type": "code",
   "execution_count": 42,
   "id": "9dcdf2fe",
   "metadata": {},
   "outputs": [],
   "source": [
    "big_data = pd.read_excel('prepared_data__clair_api_ssrl.xlsx', sheet_name=None)"
   ]
  },
  {
   "cell_type": "code",
   "execution_count": 43,
   "id": "f2f9d215",
   "metadata": {},
   "outputs": [
    {
     "name": "stdout",
     "output_type": "stream",
     "text": [
      "['Unnamed: 0', 'group', 'timestamp', 'username', 'text', 'Macro-level', 'selected_move', 'agent_intervention', 'intent', 'L1_DOM', 'L1_COO', 'L1_OFF', 'L2C_IN', 'L2C_AR', 'L2C_AI', 'L2C_AM', 'L2C_NOS', 'TSIM', 'TACC', 'TIME', 'PACE', 'TSLM', 'TSLQ', 'L3_IP', 'L3_CU', 'L3_NV', 'L3_NE', 'L4_SS', 'COFF', 'GINI', 'FIP', 'FCU', 'FCD', 'FCC', 'FNV', 'FNE', 'FCQ', 'cognitive', 'metacognitive', 'behavioral', 'socio_emotional', 'shared_perspective']\n",
      "                                                text      Macro-level\n",
      "0  Check out the selections at the start of the s...  Task definition\n",
      "1                ... to variables and possibilities.  Task definition\n",
      "2                            ...to the core concepts  Task definition\n",
      "3                                       In the rock.  Task definition\n",
      "4                                       In the rock.  Task definition\n"
     ]
    }
   ],
   "source": [
    "data = pd.concat(big_data, ignore_index=True) # Concatenate all sheets into a single DataFrame\n",
    "column_list = list(data.columns)\n",
    "print(column_list)\n",
    "# The code below drops all columns except text and Macro-level, our data and label columns\n",
    "data = data.drop(columns=[column for column in column_list if (column!=\"text\" and column!=\"Macro-level\")])\n",
    "data = data[data[\"Macro-level\"] != \"MAI speaking\"] # This line removes data inserted by a model\n",
    "print(data.head())"
   ]
  },
  {
   "cell_type": "code",
   "execution_count": 44,
   "id": "1c397f7c",
   "metadata": {},
   "outputs": [],
   "source": [
    "yaml_data = [\n",
    "    {\n",
    "        'Macro-level': macro,\n",
    "        'examples': group['text'].tolist()\n",
    "    }\n",
    "    for macro, group in data.groupby('Macro-level')\n",
    "]\n",
    "\n",
    "# Salvar no arquivo .yaml\n",
    "with open('saida.yaml', 'w', encoding='utf-8') as f:\n",
    "    yaml.dump(yaml_data, f, allow_unicode=True, sort_keys=False)"
   ]
  }
 ],
 "metadata": {
  "kernelspec": {
   "display_name": ".venv",
   "language": "python",
   "name": "python3"
  },
  "language_info": {
   "codemirror_mode": {
    "name": "ipython",
    "version": 3
   },
   "file_extension": ".py",
   "mimetype": "text/x-python",
   "name": "python",
   "nbconvert_exporter": "python",
   "pygments_lexer": "ipython3",
   "version": "3.10.17"
  }
 },
 "nbformat": 4,
 "nbformat_minor": 5
}
